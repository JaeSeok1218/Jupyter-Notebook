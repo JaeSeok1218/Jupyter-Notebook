{
 "cells": [
  {
   "cell_type": "markdown",
   "id": "ee87ace8",
   "metadata": {},
   "source": [
    "<h1 style=\"font-size:3rem;color:orange;\">Jupyter Notebook Tutorial</h1>"
   ]
  },
  {
   "cell_type": "markdown",
   "id": "4c08caa6",
   "metadata": {},
   "source": [
    "# Python for Beginners"
   ]
  },
  {
   "cell_type": "markdown",
   "id": "35fdd1bb",
   "metadata": {},
   "source": [
    "<img src=\"http://picsum.photos/id/0/400/400\">"
   ]
  },
  {
   "cell_type": "markdown",
   "id": "1fa828c3",
   "metadata": {},
   "source": [
    "## Basic Output"
   ]
  },
  {
   "cell_type": "code",
   "execution_count": 2,
   "id": "974965ac",
   "metadata": {},
   "outputs": [
    {
     "name": "stdout",
     "output_type": "stream",
     "text": [
      "Hello Workd!\n"
     ]
    }
   ],
   "source": [
    "print(\"Hello Workd!\")"
   ]
  },
  {
   "cell_type": "markdown",
   "id": "44502e98",
   "metadata": {},
   "source": [
    "## Insert a variable into a string"
   ]
  },
  {
   "cell_type": "code",
   "execution_count": 3,
   "id": "2a392b14",
   "metadata": {},
   "outputs": [
    {
     "name": "stdout",
     "output_type": "stream",
     "text": [
      "What's your name?JaeSeok Oh\n",
      "Hello, JaeSeok Oh!\n"
     ]
    }
   ],
   "source": [
    "person = input(\"What's your name?\")\n",
    "message = \"Hello, {}!\" .format(person)\n",
    "print(message)"
   ]
  },
  {
   "cell_type": "markdown",
   "id": "a47b0979",
   "metadata": {},
   "source": [
    "## Multiline Strings and String Length "
   ]
  },
  {
   "cell_type": "code",
   "execution_count": 4,
   "id": "6f23a527",
   "metadata": {},
   "outputs": [
    {
     "name": "stdout",
     "output_type": "stream",
     "text": [
      "Once upon a time\n",
      "there live a bear family\n",
      "who ate delicious pizza\n",
      "65\n"
     ]
    }
   ],
   "source": [
    "story = \"\"\"Once upon a time\n",
    "there live a bear family\n",
    "who ate delicious pizza\"\"\"\n",
    "print(story)\n",
    "print(len(story)) # numb of characters"
   ]
  },
  {
   "cell_type": "markdown",
   "id": "5d939bec",
   "metadata": {},
   "source": [
    "## Math Operations"
   ]
  },
  {
   "cell_type": "code",
   "execution_count": 5,
   "id": "64bfbf7a",
   "metadata": {},
   "outputs": [
    {
     "name": "stdout",
     "output_type": "stream",
     "text": [
      "5.25\n",
      "1\n"
     ]
    }
   ],
   "source": [
    "x = 7\n",
    "y = 4\n",
    "z = (x*3)/y\n",
    "m = (x*3)% y #modulo returns the remainder\n",
    "print(z)\n",
    "print(m)"
   ]
  },
  {
   "cell_type": "markdown",
   "id": "583b8ebb",
   "metadata": {},
   "source": [
    "## Lists(arrays)"
   ]
  },
  {
   "cell_type": "code",
   "execution_count": 6,
   "id": "c7f14825",
   "metadata": {},
   "outputs": [
    {
     "name": "stdout",
     "output_type": "stream",
     "text": [
      "Rachel\n"
     ]
    }
   ],
   "source": [
    "friends=['Monica','Phoebe','Rachel','Chandler','Joey','Ross']\n",
    "print(friends[2]) # Python counts from 0"
   ]
  }
 ],
 "metadata": {
  "kernelspec": {
   "display_name": "Python 3 (ipykernel)",
   "language": "python",
   "name": "python3"
  },
  "language_info": {
   "codemirror_mode": {
    "name": "ipython",
    "version": 3
   },
   "file_extension": ".py",
   "mimetype": "text/x-python",
   "name": "python",
   "nbconvert_exporter": "python",
   "pygments_lexer": "ipython3",
   "version": "3.11.4"
  }
 },
 "nbformat": 4,
 "nbformat_minor": 5
}
